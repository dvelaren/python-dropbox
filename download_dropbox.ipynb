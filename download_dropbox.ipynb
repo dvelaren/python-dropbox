{
 "cells": [
  {
   "attachments": {},
   "cell_type": "markdown",
   "metadata": {},
   "source": [
    "# Dropbox for Python test\n",
    "This notebook uses Dropbox API to download files from Dropbox."
   ]
  },
  {
   "attachments": {},
   "cell_type": "markdown",
   "metadata": {},
   "source": [
    "## Libraries"
   ]
  },
  {
   "cell_type": "code",
   "execution_count": 15,
   "metadata": {},
   "outputs": [
    {
     "data": {
      "text/plain": [
       "True"
      ]
     },
     "execution_count": 15,
     "metadata": {},
     "output_type": "execute_result"
    }
   ],
   "source": [
    "import os\n",
    "import dropbox\n",
    "from dotenv import load_dotenv\n",
    "load_dotenv()"
   ]
  },
  {
   "attachments": {},
   "cell_type": "markdown",
   "metadata": {},
   "source": [
    "## Constants"
   ]
  },
  {
   "cell_type": "code",
   "execution_count": 16,
   "metadata": {},
   "outputs": [],
   "source": [
    "TOKEN = os.getenv(\"DROPBOX_TOKEN\") or \"YOUR_TOKEN\"\n",
    "ID_FILE_NAME = \"ID UTEDEZA EDAR 4.0.xlsx\"\n",
    "METEO_FILE_NAME = \"METEO UTEDEZA EDAR 4.0.xlsx\"\n",
    "DROPBOX_PATH = \"/Data/\"\n",
    "OUTPUT_PATH = \"./out/\""
   ]
  },
  {
   "attachments": {},
   "cell_type": "markdown",
   "metadata": {},
   "source": [
    "## Functions"
   ]
  },
  {
   "cell_type": "code",
   "execution_count": 17,
   "metadata": {},
   "outputs": [],
   "source": [
    "def isFile(dropboxMeta):\n",
    "    return isinstance(dropboxMeta,dropbox.files.FileMetadata)\n",
    "\n",
    "def isFolder(dropboxMeta):\n",
    "    return isinstance(dropboxMeta,dropbox.files.FolderMetadata)"
   ]
  },
  {
   "attachments": {},
   "cell_type": "markdown",
   "metadata": {},
   "source": [
    "## Downloading data"
   ]
  },
  {
   "cell_type": "code",
   "execution_count": 18,
   "metadata": {},
   "outputs": [],
   "source": [
    "dbx = dropbox.Dropbox(TOKEN)"
   ]
  },
  {
   "cell_type": "code",
   "execution_count": 19,
   "metadata": {},
   "outputs": [],
   "source": [
    "# dbx.users_get_current_account()"
   ]
  },
  {
   "cell_type": "code",
   "execution_count": 20,
   "metadata": {},
   "outputs": [
    {
     "name": "stdout",
     "output_type": "stream",
     "text": [
      "Meteo\n",
      "Datos Limpios\n",
      "ID UTEDEZA EDAR 4.0.xlsx\n",
      "METEO UTEDEZA EDAR 4.0.xlsx\n"
     ]
    }
   ],
   "source": [
    "for entry in dbx.files_list_folder('/Data').entries:\n",
    "    print(entry.name)"
   ]
  },
  {
   "cell_type": "code",
   "execution_count": 21,
   "metadata": {},
   "outputs": [],
   "source": [
    "files = [ID_FILE_NAME, METEO_FILE_NAME]\n",
    "for file in files:\n",
    "    dbx.files_download_to_file(OUTPUT_PATH + file, DROPBOX_PATH + file)"
   ]
  }
 ],
 "metadata": {
  "kernelspec": {
   "display_name": "env",
   "language": "python",
   "name": "python3"
  },
  "language_info": {
   "codemirror_mode": {
    "name": "ipython",
    "version": 3
   },
   "file_extension": ".py",
   "mimetype": "text/x-python",
   "name": "python",
   "nbconvert_exporter": "python",
   "pygments_lexer": "ipython3",
   "version": "3.10.6"
  },
  "orig_nbformat": 4,
  "vscode": {
   "interpreter": {
    "hash": "75c80eb03c8644439820e2d85e198ab1e8c4b3135a6719a0f690dc7883b20e06"
   }
  }
 },
 "nbformat": 4,
 "nbformat_minor": 2
}
