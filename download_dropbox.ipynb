{
 "cells": [
  {
   "attachments": {},
   "cell_type": "markdown",
   "metadata": {},
   "source": [
    "# Dropbox for Python test\n",
    "This notebook uses Dropbox API to download files from Dropbox."
   ]
  },
  {
   "attachments": {},
   "cell_type": "markdown",
   "metadata": {},
   "source": [
    "## Libraries"
   ]
  },
  {
   "cell_type": "code",
   "execution_count": 18,
   "metadata": {},
   "outputs": [
    {
     "data": {
      "text/plain": [
       "True"
      ]
     },
     "execution_count": 18,
     "metadata": {},
     "output_type": "execute_result"
    }
   ],
   "source": [
    "import os\n",
    "import dropbox\n",
    "from dotenv import load_dotenv\n",
    "load_dotenv()"
   ]
  },
  {
   "attachments": {},
   "cell_type": "markdown",
   "metadata": {},
   "source": [
    "## Constants"
   ]
  },
  {
   "cell_type": "code",
   "execution_count": 19,
   "metadata": {},
   "outputs": [],
   "source": [
    "APP_KEY = os.getenv(\"APP_KEY\") or \"YOUR_KEY\"\n",
    "APP_SECRET = os.getenv(\"APP_SECRET\") or \"YOUR_SECRET\"\n",
    "TOKEN = os.getenv(\"DROPBOX_TOKEN\") or \"YOUR_TOKEN\"\n",
    "REFRESH_TOKEN = os.getenv(\"REFRESH_TOKEN\") or \"YOUR_REFRESH_TOKEN\"\n",
    "ID_FILE_NAME = \"ID UTEDEZA EDAR 4.0.xlsx\"\n",
    "METEO_FILE_NAME = \"METEO UTEDEZA EDAR 4.0.xlsx\"\n",
    "DROPBOX_PATH = \"/Data/\"\n",
    "OUTPUT_PATH = \"./out/\""
   ]
  },
  {
   "attachments": {},
   "cell_type": "markdown",
   "metadata": {},
   "source": [
    "## Functions"
   ]
  },
  {
   "cell_type": "code",
   "execution_count": 20,
   "metadata": {},
   "outputs": [],
   "source": [
    "def isFile(dropboxMeta):\n",
    "    return isinstance(dropboxMeta,dropbox.files.FileMetadata)\n",
    "\n",
    "def isFolder(dropboxMeta):\n",
    "    return isinstance(dropboxMeta,dropbox.files.FolderMetadata)"
   ]
  },
  {
   "attachments": {},
   "cell_type": "markdown",
   "metadata": {},
   "source": [
    "## Downloading data"
   ]
  },
  {
   "cell_type": "code",
   "execution_count": 21,
   "metadata": {},
   "outputs": [],
   "source": [
    "dbx = dropbox.Dropbox(\n",
    "            app_key = APP_KEY,\n",
    "            app_secret = APP_SECRET,\n",
    "            oauth2_refresh_token = REFRESH_TOKEN\n",
    "        )"
   ]
  },
  {
   "cell_type": "code",
   "execution_count": 22,
   "metadata": {},
   "outputs": [],
   "source": [
    "dbx = dropbox.Dropbox(TOKEN)"
   ]
  },
  {
   "cell_type": "code",
   "execution_count": 23,
   "metadata": {},
   "outputs": [
    {
     "data": {
      "text/plain": [
       "FullAccount(account_id='dbid:AABR7Xs7vCYdfDoHl45g1CzdkqUef-ithLc', account_type=AccountType('basic', None), country='ES', disabled=False, email='edar40@vicomtech.org', email_verified=True, is_paired=False, locale='es-ES', name=Name(abbreviated_name='EE', display_name='edar edar', familiar_name='edar', given_name='edar', surname='edar'), profile_photo_url=NOT_SET, referral_link='https://www.dropbox.com/referrals/AAC7hx1ENIqEnGuajfjKcBcmILCcbHajUBM?src=app9-12695696', root_info=UserRootInfo(home_namespace_id='8842255280', root_namespace_id='8842255280'), team=NOT_SET, team_member_id=NOT_SET)"
      ]
     },
     "execution_count": 23,
     "metadata": {},
     "output_type": "execute_result"
    }
   ],
   "source": [
    "dbx.users_get_current_account()"
   ]
  },
  {
   "cell_type": "code",
   "execution_count": 24,
   "metadata": {},
   "outputs": [
    {
     "name": "stdout",
     "output_type": "stream",
     "text": [
      "Meteo\n",
      "Datos Limpios\n",
      "ID UTEDEZA EDAR 4.0.xlsx\n",
      "METEO UTEDEZA EDAR 4.0.xlsx\n"
     ]
    }
   ],
   "source": [
    "for entry in dbx.files_list_folder('/Data').entries:\n",
    "    print(entry.name)"
   ]
  },
  {
   "cell_type": "code",
   "execution_count": 25,
   "metadata": {},
   "outputs": [],
   "source": [
    "files = [ID_FILE_NAME, METEO_FILE_NAME]\n",
    "for file in files:\n",
    "    dbx.files_download_to_file(OUTPUT_PATH + file, DROPBOX_PATH + file)"
   ]
  }
 ],
 "metadata": {
  "kernelspec": {
   "display_name": "env",
   "language": "python",
   "name": "python3"
  },
  "language_info": {
   "codemirror_mode": {
    "name": "ipython",
    "version": 3
   },
   "file_extension": ".py",
   "mimetype": "text/x-python",
   "name": "python",
   "nbconvert_exporter": "python",
   "pygments_lexer": "ipython3",
   "version": "3.10.6"
  },
  "orig_nbformat": 4,
  "vscode": {
   "interpreter": {
    "hash": "75c80eb03c8644439820e2d85e198ab1e8c4b3135a6719a0f690dc7883b20e06"
   }
  }
 },
 "nbformat": 4,
 "nbformat_minor": 2
}
